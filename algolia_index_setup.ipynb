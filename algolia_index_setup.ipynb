{
 "cells": [
  {
   "cell_type": "code",
   "execution_count": 3,
   "id": "a4461d9f",
   "metadata": {},
   "outputs": [],
   "source": [
    "import json\n",
    "from algoliasearch.search_client import SearchClient"
   ]
  },
  {
   "cell_type": "code",
   "execution_count": null,
   "id": "d30bd47e",
   "metadata": {},
   "outputs": [],
   "source": [
    "# Take the pixabay_data.json file and upload it to your Algolia index.\n",
    "algolia_app_id = \"\"\n",
    "algolia_api_key = \"\"\n",
    "algolia_index_name = \"\"\n",
    "\n",
    "client = SearchClient.create(algolia_app_id, algolia_api_key)\n",
    "index = client.init_index(algolia_index_name)\n",
    "\n",
    "with open('pixabay_data.json') as f:\n",
    "    records = json.load(f)\n",
    "    index.save_objects(records, {'autoGenerateObjectIDIfNotExist': True})"
   ]
  }
 ],
 "metadata": {
  "kernelspec": {
   "display_name": "Python 3 (ipykernel)",
   "language": "python",
   "name": "python3"
  },
  "language_info": {
   "codemirror_mode": {
    "name": "ipython",
    "version": 3
   },
   "file_extension": ".py",
   "mimetype": "text/x-python",
   "name": "python",
   "nbconvert_exporter": "python",
   "pygments_lexer": "ipython3",
   "version": "3.8.10"
  }
 },
 "nbformat": 4,
 "nbformat_minor": 5
}
